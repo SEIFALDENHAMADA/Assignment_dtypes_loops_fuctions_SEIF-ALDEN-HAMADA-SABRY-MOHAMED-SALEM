{
 "cells": [
  {
   "cell_type": "markdown",
   "metadata": {},
   "source": [
    "# Assignment\n",
    "- You can use `lambda` if function can be put in one line"
   ]
  },
  {
   "cell_type": "markdown",
   "metadata": {},
   "source": [
    "### Write a function that calculates the factorial of a number"
   ]
  },
  {
   "cell_type": "code",
   "execution_count": 1,
   "metadata": {},
   "outputs": [
    {
     "name": "stdout",
     "output_type": "stream",
     "text": [
      "The factorial of 5 is 120\n"
     ]
    }
   ],
   "source": [
    "def factorial(number):\n",
    "    fact = 1 \n",
    "    if (number == 1) | (number == 0):\n",
    "        print(print(f\"The factorial of {number} is {fact}\"))\n",
    "    else:\n",
    "        for i in range(1,number+1):\n",
    "            fact *=i\n",
    "        print(f\"The factorial of {number} is {fact}\")\n",
    "        \n",
    "UserInput = int(input(\"Enter a number: \")) \n",
    "factorial(UserInput)"
   ]
  },
  {
   "cell_type": "markdown",
   "metadata": {},
   "source": [
    "### Write a function that calculates the Area of a circle given the radius"
   ]
  },
  {
   "cell_type": "code",
   "execution_count": 19,
   "metadata": {},
   "outputs": [
    {
     "name": "stdout",
     "output_type": "stream",
     "text": [
      "The Area of a circle r = 10.0 is: 314.1592653589793\n"
     ]
    }
   ],
   "source": [
    "import math\n",
    "\n",
    "piValue = math.pi\n",
    "\n",
    "area_of_circle = lambda R = float(input(\"Enter the redius of the circle : \")) : print(f\"The Area of a circle r = {R} is: {piValue*(R**2)}\")\n",
    "\n",
    "\n",
    "area_of_circle()"
   ]
  },
  {
   "cell_type": "markdown",
   "metadata": {},
   "source": [
    "### Write a function that checks if number is even"
   ]
  },
  {
   "cell_type": "code",
   "execution_count": 14,
   "metadata": {},
   "outputs": [
    {
     "name": "stdout",
     "output_type": "stream",
     "text": [
      "The number 4 is even !!!!\n"
     ]
    }
   ],
   "source": [
    "def even_Or_odd():\n",
    "    number = int(input(\"Emter a number: \"))\n",
    "    \n",
    "    if number%2 == 0:\n",
    "        print(f\"The number {number} is even !!!!\")\n",
    "    else:\n",
    "        print(f\"The number {number} is odd !!!!\")  \n",
    "\n",
    "even_Or_odd()\n"
   ]
  },
  {
   "cell_type": "markdown",
   "metadata": {},
   "source": [
    "### Write a function that returns the maximum of any amount of numbers"
   ]
  },
  {
   "cell_type": "code",
   "execution_count": 4,
   "metadata": {},
   "outputs": [
    {
     "name": "stdout",
     "output_type": "stream",
     "text": [
      "99\n"
     ]
    },
    {
     "data": {
      "text/plain": [
       "'\\n\\ni can type it like that but it will be by sequence:\\n\\n\\ndef max_amount(*args):\\n    arg = tuple(input(\"Enter a numbers\"))\\n    args = arg\\n    if not args:\\n        print(None)\\n    else:\\n        print(max(args))\\n\\nmax_amount()\\n\\n'"
      ]
     },
     "execution_count": 4,
     "metadata": {},
     "output_type": "execute_result"
    }
   ],
   "source": [
    "def max_amount(*args):\n",
    "    if not args:\n",
    "        print(None)\n",
    "    else:\n",
    "        print(max(args))\n",
    "\n",
    "max_amount(1,2,55,99,77)\n",
    "\n",
    "\n",
    "\n",
    "\n",
    "\"\"\"\n",
    "\n",
    "i can type it like that but it will be by sequence:\n",
    "\n",
    "\n",
    "def max_amount(*args):\n",
    "    arg = tuple(input(\"Enter a numbers\"))\n",
    "    args = arg\n",
    "    if not args:\n",
    "        print(None)\n",
    "    else:\n",
    "        print(max(args))\n",
    "\n",
    "max_amount()\n",
    "\n",
    "\"\"\""
   ]
  },
  {
   "cell_type": "markdown",
   "metadata": {},
   "source": [
    "### Write a function that generates the multiplication table of a number up to 12"
   ]
  },
  {
   "cell_type": "code",
   "execution_count": 5,
   "metadata": {},
   "outputs": [
    {
     "name": "stdout",
     "output_type": "stream",
     "text": [
      "9 X 0 = 0\n",
      "9 X 1 = 9\n",
      "9 X 2 = 18\n",
      "9 X 3 = 27\n",
      "9 X 4 = 36\n",
      "9 X 5 = 45\n",
      "9 X 6 = 54\n",
      "9 X 7 = 63\n",
      "9 X 8 = 72\n",
      "9 X 9 = 81\n",
      "9 X 10 = 90\n",
      "9 X 11 = 99\n",
      "9 X 12 = 108\n"
     ]
    }
   ],
   "source": [
    "def multiplication_table():\n",
    "    number = int(input(\"Enter a number : \"))\n",
    "    for i in range(13):\n",
    "        print(f\"{number} X {i} = {number*i}\")\n",
    "\n",
    "multiplication_table()        "
   ]
  },
  {
   "cell_type": "markdown",
   "metadata": {},
   "source": [
    "### Write a function that count vowels in string"
   ]
  },
  {
   "cell_type": "code",
   "execution_count": 13,
   "metadata": {},
   "outputs": [
    {
     "name": "stdout",
     "output_type": "stream",
     "text": [
      "The num of Vowels in word 'seif' is: 2\n"
     ]
    }
   ],
   "source": [
    "def count_vowels():\n",
    "    string = input(\"Enter a String: \")\n",
    "    string = string.lower()\n",
    "    vowels = (\"a\",\"e\",\"i\",\"o\",\"u\")\n",
    "    count = 0\n",
    "    for i in string:\n",
    "        if i in vowels:\n",
    "            count += 1\n",
    "        else:\n",
    "            continue   \n",
    "\n",
    "    print(f\"The num of Vowels in word '{string}' is: {count}\")   \n",
    "\n",
    "count_vowels()\n",
    "            "
   ]
  },
  {
   "cell_type": "markdown",
   "metadata": {},
   "source": [
    "### Write a function that revesres a sequence"
   ]
  },
  {
   "cell_type": "code",
   "execution_count": 12,
   "metadata": {},
   "outputs": [
    {
     "name": "stdout",
     "output_type": "stream",
     "text": [
      "The sequence of SEIF is : FIES\n"
     ]
    }
   ],
   "source": [
    "reverse = lambda sequence = input(\"Enter a sequence: \") : print(f\"The sequence of {sequence} is : {sequence[::-1]}\")\n",
    "reverse()\n",
    "    "
   ]
  },
  {
   "cell_type": "markdown",
   "metadata": {},
   "source": [
    "### Write a function to check if sting can be written forward or backward"
   ]
  },
  {
   "cell_type": "code",
   "execution_count": 21,
   "metadata": {},
   "outputs": [
    {
     "name": "stdout",
     "output_type": "stream",
     "text": [
      "The Word 'TUUT' is Palindrome :)\n"
     ]
    }
   ],
   "source": [
    "#if u mean Palindrome => that's it:-\n",
    "\n",
    "def is_palindrome():\n",
    "    string0 = input(\"Enter a Word: \")\n",
    "    string1 = string0[::-1]\n",
    "\n",
    "    if string0 == string1:\n",
    "        print(f\"The Word '{string0}' is Palindrome :)\")\n",
    "    else:\n",
    "        print(f\"The Word '{string0}' is not Palindrome :(\")    \n",
    "\n",
    "is_palindrome()\n",
    "\n"
   ]
  },
  {
   "cell_type": "markdown",
   "metadata": {},
   "source": [
    "### Write a function that generates the fibonacci's sequencer"
   ]
  },
  {
   "cell_type": "code",
   "execution_count": 24,
   "metadata": {},
   "outputs": [
    {
     "name": "stdout",
     "output_type": "stream",
     "text": [
      "The Fibonacci of 10 is [0, 1, 3, 5, 7, 9, 11, 13, 15, 17]\n"
     ]
    }
   ],
   "source": [
    "def fibonacci():\n",
    "    number = int(input(\"Enter a number: \"))\n",
    "    fibonacci_list = [0]\n",
    "    n = 0\n",
    "    for i in range(1,number):\n",
    "        if i != number:\n",
    "            fibonacci_list.append(i+n)\n",
    "            n += 1\n",
    "        else:\n",
    "            pass\n",
    "\n",
    "    print(f\"The Fibonacci of {number} is {fibonacci_list}\")    \n",
    "\n",
    "fibonacci()           \n",
    "    "
   ]
  },
  {
   "cell_type": "markdown",
   "metadata": {},
   "source": [
    "### Write a calcuator function"
   ]
  },
  {
   "cell_type": "code",
   "execution_count": 25,
   "metadata": {},
   "outputs": [
    {
     "name": "stdout",
     "output_type": "stream",
     "text": [
      "Welcome to our super calcuator please chose ur mathmatical operation : \n",
      "1/ Addition\n",
      "2/ Subtraction\n",
      "3/ Multiplication\n",
      "4/ Division\n",
      "10.0 ÷ 5.0 = 2.0\n"
     ]
    }
   ],
   "source": [
    "import time\n",
    "def calcuator():\n",
    "    while True:\n",
    "        print(\"Welcome to our super calcuator please chose ur mathmatical operation : \")\n",
    "        time.sleep(1)\n",
    "        print(\"1/ Addition\")\n",
    "        time.sleep(0.5)\n",
    "        print(\"2/ Subtraction\")\n",
    "        time.sleep(0.5)\n",
    "        print(\"3/ Multiplication\")\n",
    "        time.sleep(0.5)\n",
    "        print(\"4/ Division\")\n",
    "\n",
    "        operation = int(input(\"Enter the number of the operation :\"))\n",
    "\n",
    "        if(operation == 1):\n",
    "            n0 = float(input(\"Enter a first number plz: \"))\n",
    "            n1 = float(input(\"Enter a second number plz: \"))\n",
    "            result = n0 + n1\n",
    "            print(f\"{n0} + {n1} = {result}\")\n",
    "            break\n",
    "        elif(operation == 2):\n",
    "            n0 = float(input(\"Enter a first number plz: \"))\n",
    "            n1 = float(input(\"Enter a second number plz: \"))\n",
    "            result = n0 - n1\n",
    "            print(f\"{n0} - {n1} = {result}\")\n",
    "            break\n",
    "        elif(operation == 3):\n",
    "            n0 = float(input(\"Enter a first number plz: \"))\n",
    "            n1 = float(input(\"Enter a second number plz: \"))\n",
    "            result = n0 * n1\n",
    "            print(f\"{n0} X {n1} = {result}\")\n",
    "            break\n",
    "        elif(operation == 4):\n",
    "            n0 = float(input(\"Enter a first number plz: \"))\n",
    "            n1 = float(input(\"Enter a second number plz: \"))\n",
    "            result = n0 / n1\n",
    "            print(f\"{n0} ÷ {n1} = {result}\")\n",
    "            break\n",
    "        else:\n",
    "            print(\"Invalid operation try again\")   \n",
    "            \n",
    "calcuator()    "
   ]
  }
 ],
 "metadata": {
  "kernelspec": {
   "display_name": "Python 3",
   "language": "python",
   "name": "python3"
  },
  "language_info": {
   "codemirror_mode": {
    "name": "ipython",
    "version": 3
   },
   "file_extension": ".py",
   "mimetype": "text/x-python",
   "name": "python",
   "nbconvert_exporter": "python",
   "pygments_lexer": "ipython3",
   "version": "3.12.8"
  }
 },
 "nbformat": 4,
 "nbformat_minor": 2
}
